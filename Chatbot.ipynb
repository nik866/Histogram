{
  "nbformat": 4,
  "nbformat_minor": 0,
  "metadata": {
    "colab": {
      "name": "Untitled1.ipynb",
      "provenance": [],
      "authorship_tag": "ABX9TyPHwuP2ObeRH3EypsqdUhRb",
      "include_colab_link": true
    },
    "kernelspec": {
      "name": "python3",
      "display_name": "Python 3"
    },
    "language_info": {
      "name": "python"
    }
  },
  "cells": [
    {
      "cell_type": "markdown",
      "metadata": {
        "id": "view-in-github",
        "colab_type": "text"
      },
      "source": [
        "<a href=\"https://colab.research.google.com/github/nik866/Histogram/blob/main/Chatbot.ipynb\" target=\"_parent\"><img src=\"https://colab.research.google.com/assets/colab-badge.svg\" alt=\"Open In Colab\"/></a>"
      ]
    },
    {
      "cell_type": "code",
      "metadata": {
        "colab": {
          "base_uri": "https://localhost:8080/"
        },
        "id": "1Loe7MdpCw7W",
        "outputId": "32c27511-96b2-4fa9-ab89-6f4273cbd9ed"
      },
      "source": [
        "pip install chatterbot"
      ],
      "execution_count": 1,
      "outputs": [
        {
          "output_type": "stream",
          "text": [
            "Collecting chatterbot\n",
            "\u001b[?25l  Downloading https://files.pythonhosted.org/packages/7c/21/85c2b114bd9dfabdd46ba58fc4519acdaed45d8c70898d40079e37a45e67/ChatterBot-1.0.8-py2.py3-none-any.whl (63kB)\n",
            "\u001b[K     |████████████████████████████████| 71kB 2.0MB/s \n",
            "\u001b[?25hCollecting mathparse<0.2,>=0.1\n",
            "  Downloading https://files.pythonhosted.org/packages/c3/e5/4910fb85950cb960fcf3f5aabe1c8e55f5c9201788a1c1302b570a7e1f84/mathparse-0.1.2-py3-none-any.whl\n",
            "Requirement already satisfied: python-dateutil<2.9,>=2.8 in /usr/local/lib/python3.7/dist-packages (from chatterbot) (2.8.1)\n",
            "Collecting sqlalchemy<1.4,>=1.3\n",
            "\u001b[?25l  Downloading https://files.pythonhosted.org/packages/31/44/a86070dda790ce94cd7d9fb9281cd614c7d30850ed774ace9a84d0d5d491/SQLAlchemy-1.3.24-cp37-cp37m-manylinux2010_x86_64.whl (1.3MB)\n",
            "\u001b[K     |████████████████████████████████| 1.3MB 4.1MB/s \n",
            "\u001b[?25hRequirement already satisfied: pytz in /usr/local/lib/python3.7/dist-packages (from chatterbot) (2018.9)\n",
            "Requirement already satisfied: six>=1.5 in /usr/local/lib/python3.7/dist-packages (from python-dateutil<2.9,>=2.8->chatterbot) (1.15.0)\n",
            "Installing collected packages: mathparse, sqlalchemy, chatterbot\n",
            "  Found existing installation: SQLAlchemy 1.4.15\n",
            "    Uninstalling SQLAlchemy-1.4.15:\n",
            "      Successfully uninstalled SQLAlchemy-1.4.15\n",
            "Successfully installed chatterbot-1.0.8 mathparse-0.1.2 sqlalchemy-1.3.24\n"
          ],
          "name": "stdout"
        }
      ]
    },
    {
      "cell_type": "code",
      "metadata": {
        "colab": {
          "base_uri": "https://localhost:8080/"
        },
        "id": "8_zMhr4-C7Zn",
        "outputId": "80cb9b17-71ec-4b3b-869a-5c06b6b7b148"
      },
      "source": [
        "pip install chatterbot_corpus"
      ],
      "execution_count": 3,
      "outputs": [
        {
          "output_type": "stream",
          "text": [
            "Requirement already satisfied: chatterbot_corpus in /usr/local/lib/python3.7/dist-packages (1.2.0)\n",
            "Requirement already satisfied: PyYAML<4.0,>=3.12 in /usr/local/lib/python3.7/dist-packages (from chatterbot_corpus) (3.13)\n"
          ],
          "name": "stdout"
        }
      ]
    },
    {
      "cell_type": "code",
      "metadata": {
        "id": "cZlKL2Z_DMjC"
      },
      "source": [
        "from chatterbot import ChatBot"
      ],
      "execution_count": 5,
      "outputs": []
    },
    {
      "cell_type": "code",
      "metadata": {
        "id": "cKvaT88KDbA7"
      },
      "source": [
        "bot = ChatBot('Buddy')"
      ],
      "execution_count": 6,
      "outputs": []
    },
    {
      "cell_type": "code",
      "metadata": {
        "id": "i5WECERVDf9z"
      },
      "source": [
        "bot = ChatBot(\n",
        "    'Buddy',\n",
        "    storage_adapter='chatterbot.storage.SQLStorageAdapter',\n",
        "    database_uri='sqlite:///database.sqlite3'\n",
        ")"
      ],
      "execution_count": 7,
      "outputs": []
    },
    {
      "cell_type": "code",
      "metadata": {
        "colab": {
          "base_uri": "https://localhost:8080/"
        },
        "id": "_I4VJCFhDsqi",
        "outputId": "6b57099e-361d-4b96-e6c0-2d4a2802bdfb"
      },
      "source": [
        "bot = ChatBot(\n",
        "    'Buddy',  \n",
        "    logic_adapters=[\n",
        "        'chatterbot.logic.BestMatch',\n",
        "        'chatterbot.logic.TimeLogicAdapter'],\n",
        ")\n",
        "from chatterbot.trainers import ListTrainer\n",
        "\n",
        "trainer = ListTrainer(bot)\n",
        "\n",
        "trainer.train([\n",
        "'Hi',\n",
        "'Hello',\n",
        "'I need your assistance regarding my order',\n",
        "'Please, Provide me with your order id',\n",
        "'I have a complaint.',\n",
        "'Please elaborate, your concern',\n",
        "'How long it will take to receive an order ?',\n",
        "'An order takes 3-5 Business days to get delivered.',\n",
        "'Okay Thanks',\n",
        "'No Problem! Have a Good Day!'\n",
        "])"
      ],
      "execution_count": 8,
      "outputs": [
        {
          "output_type": "stream",
          "text": [
            "List Trainer: [####################] 100%\n"
          ],
          "name": "stdout"
        }
      ]
    },
    {
      "cell_type": "code",
      "metadata": {
        "colab": {
          "base_uri": "https://localhost:8080/"
        },
        "id": "wFzsVfQoEExV",
        "outputId": "51e884b6-5217-4c8b-8404-b77cdc8abb93"
      },
      "source": [
        "response = bot.get_response('I have a complaint.')\n",
        "\n",
        "print(\"Bot Response:\", response)"
      ],
      "execution_count": 9,
      "outputs": [
        {
          "output_type": "stream",
          "text": [
            "Bot Response: Please elaborate, your concern\n"
          ],
          "name": "stdout"
        }
      ]
    },
    {
      "cell_type": "code",
      "metadata": {
        "colab": {
          "base_uri": "https://localhost:8080/"
        },
        "id": "6JdQQCz9EY-c",
        "outputId": "2a726335-89c1-40fa-8389-294f8d644ee6"
      },
      "source": [
        "name=input(\"Enter Your Name: \")\n",
        "print(\"Welcome to the Bot Service! Let me know how can I help you?\")\n",
        "while True:\n",
        "    request=input(name+':')\n",
        "    if request=='Bye' or request =='bye':\n",
        "        print('Bot: Bye')\n",
        "        break\n",
        "    else:\n",
        "        response=bot.get_response(request)\n",
        "        print('Bot:',response)"
      ],
      "execution_count": null,
      "outputs": [
        {
          "output_type": "stream",
          "text": [
            "Enter Your Name: nikhil\n",
            "Welcome to the Bot Service! Let me know how can I help you?\n",
            "nikhil:tell me your number\n",
            "Bot: Okay Thanks\n"
          ],
          "name": "stdout"
        }
      ]
    },
    {
      "cell_type": "markdown",
      "metadata": {
        "id": "WBU5-rBEFcuo"
      },
      "source": [
        "# New Section"
      ]
    },
    {
      "cell_type": "code",
      "metadata": {
        "id": "K5Db51E-Ejlg"
      },
      "source": [
        ""
      ],
      "execution_count": null,
      "outputs": []
    }
  ]
}